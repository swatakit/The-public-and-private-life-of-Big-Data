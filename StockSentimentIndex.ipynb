{
 "cells": [
  {
   "cell_type": "markdown",
   "metadata": {},
   "source": [
    "<font face=\"Verdana, cursive, sans-serif\" >\n",
    "<h1><center>Creating stock sentiment index from company news</center></h1>\n",
    "\n",
    "<b>Author: Siraprapa Watakit</b>\n",
    "<br><b>Last edited: November 2018</b>\n",
    "<p><b>Synopsis:</b></p>\n",
    "\n",
    "<p>This python notebook is a part of a working paper <b>\"The Public and Private Life of Big Data\",Pavabutr and Watakit(2018)</b>. This notebook demonstrates a step-by-step sentiment index creation from company news. </p>\n",
    "\n",
    "<p>The following libraries are required for the project</p>\n",
    "<ul>\n",
    "   <li><code>panda,numpy</code>&nbsp; For dataframe, vector and matrix processing</li>\n",
    "   <li><code>BeautifulSoup</code> &nbsp;  For HTML data parsing</li>\n",
    "   <li><code>nltk,corpus</code> &nbsp; For nature language processing </li>\n",
    "   <li><code>matplotlib,wordcloud</code> &nbsp; For data visulization </li>\n",
    "</ul>\n",
    "\n",
    "\n",
    "<p>Note that <code>nltk,corpus</code> has to be installed manually. Please refer to <code>Anaconda</code> or <code>pip</code> installation manaul </p>\n",
    "\n",
    "<p><b>Disclaimer:</b>This material is for informational and educational purposes only. </p>\n",
    "\n"
   ]
  },
  {
   "cell_type": "markdown",
   "metadata": {},
   "source": [
    "<font face=\"Verdana, cursive, sans-serif\" >\n",
    "<h2>What is natural language processing?</h2>\n",
    "\n",
    "\n",
    "<p>Natural language processing is a sub field of computer science. The purpose of this sub-field is to make computers understand human language so that it can performance certain tasks. Example of applications of NLP are document summarisation, translation, chatbots and sentimental analysis. In order to make computer understand human language, the language must be convert to a sequence of binary (0,1). General NLP methodology involves (1) Lexical analysis: convert sentence to tokens, (2) Syntactic analysis: analyse and understand grammar structure and relationship between token, (3) Interpreting the meaning of a sentence; which require machine learning or deep learning methodologies. In this program, we specifically show simple tasks of natural language processing for sentiment analysis, step-by-step.</p>\n",
    "\n",
    "<h2>What is sentiment analysis?</h2>\n",
    "<p>Sentiment analysis is a process of gauging general opinion toward a certain topic. Sentiment analysis process usually involves aggregating freetext data and determines whether this freetext data is good sentiment or bad sentiment. The purpose of this program is to gently introduce reader to NLP and sentiment analysis by demonstrating an end-to-end process from data preparation -to- model creation -to- model excercution. Therefore, the following guidelines are by no means exhaustive.  </p>\n",
    "<ol>\n",
    "   <li>Identify credible source and extract the data from the source</li>\n",
    "   <li>Data preparation: cleaning, remove stopwords, remove non-alphabetic characters, normalize charecter case to either lower or upper.</li>\n",
    "    <li>Tokenization: convert a sentence to a vector of word</li>\n",
    "    <li>Create a dictionary from vector of word</li>\n",
    "    <li>Create a feature matrix</li>\n",
    "    <li>Build and train model from feature matrix</li>\n",
    "    <li>Score new data with the model</li>\n",
    "</ol>\n",
    "\n",
    "<p>We have a initial of 5,462 top-story news(Reuters) of SET50 stocks during (Jan/2014-Jun/2018). We remove irrelevant and duplicate news, and manually categorize news into 3 groups: good news, bad news, and neutral. In our final selection, we have a total of 1,914 news: 527(good), 262(bad), 1,125(neutral).<br> <br>Good news is represented by '1' and bad news is presented by '0' in our dataset</p>\n",
    "\n",
    "<br>Guidelines 2-5 can be illustrated as follows:\n",
    "\n",
    "<img src=\"./images/nlp_process_1.png\" >\n",
    "\n",
    "<br>Where <b>N</b> is the total number of news and <b>D</b> is the total number of words  \n",
    "\n",
    "<p>Note that each numeric represents existence of words in documents. It can be calculated in various ways; among the commonly known are</p>\n",
    "\n",
    "<ul>\n",
    "    <li>Word count: each numeric is a total count of appearance of each word in a document</li>\n",
    "    <li>Word proportion : each numeric is an average weight of a word in a document</li>\n",
    "    <li>Term frequnecy inverse document frequency(TF-IDF): each numeric represent an importaness of a word in a document relative to other words in the whole collection of documents.</li>\n",
    "</ul>\n",
    "\n",
    "In the next section, we demonstrate a step-by-step programming in 2 approach:\n",
    "\n",
    "<ul>\n",
    "    <li>Apporach 1 Longhand Programming, starting from the scratch until modeling</li>\n",
    "    <li>Apporach 2 Shorthand Programming, demonstraing the utilization of python library</li>\n",
    "</ul>\n"
   ]
  },
  {
   "cell_type": "markdown",
   "metadata": {},
   "source": [
    "<font face=\"Verdana, cursive, sans-serif\">\n",
    "<h1><b><center>Approach 1 Longhand Programming</center></b></h1>\n",
    "\n",
    "<b>Feature matrix : Word Proportion</b>\n"
   ]
  },
  {
   "cell_type": "markdown",
   "metadata": {},
   "source": [
    "<font face=\"Verdana, cursive, sans-serif\">\n",
    "<b>Step 1 Import libraries</b>\n"
   ]
  },
  {
   "cell_type": "code",
   "execution_count": 1,
   "metadata": {},
   "outputs": [],
   "source": [
    "import pandas as pd\n",
    "import nltk\n",
    "from nltk.corpus import stopwords\n",
    "import numpy as np\n",
    "import matplotlib.pyplot as plt\n",
    "%matplotlib inline\n",
    "import string\n",
    "from wordcloud import WordCloud\n",
    "from nltk.stem import WordNetLemmatizer"
   ]
  },
  {
   "cell_type": "markdown",
   "metadata": {},
   "source": [
    "<font face=\"Verdana, cursive, sans-serif\">\n",
    "<b>Step 2 Prepare stopword list and define utility functions </b>\n",
    "<p><b>stopwords</b> are words which have no sentiment meaning such \"as is, am, are,a ,an ,the\". These words must be removed in order to minimise the size of feature matrix.</p>\n",
    "<p>\n",
    "<ul>\n",
    "    <li><code>text_preprocess_tokenizer()</code> this function pre-process a sentence and tokenize it </li>\n",
    "    <li><code>tokens_to_vector()</code> this function convert all tokens to vectors</li>\n",
    "    <li><code>visualize()</code> wordcloud visulization tool</li>\n",
    "</ul>"
   ]
  },
  {
   "cell_type": "code",
   "execution_count": 2,
   "metadata": {},
   "outputs": [],
   "source": [
    "#prepare stopwords\n",
    "#import stopwrds from nltk, and add some more\n",
    "stopwords = set(stopwords.words(\"english\"))\n",
    "stocklists = set(w.rstrip().lower()+'.bk' for w in open('./input/tickersSET.csv',encoding=\"utf8\"))\n",
    "stopwords = stopwords.union(stocklists)\n",
    "stopwords = stopwords.union({'bangkok','thailand','reuters','thomson reuters','ptt','pcl','banpu','baht','said','central','karnchang','plaza','passenger','pattana'\n",
    "                             ,'airport','charoen','pokphand','hotel','tourism','assurance','life','sophonpanich','chatri','dusit','food','choedchu','airway','mhz','advanced','info','medical','hospital'\n",
    "                             ,'bts','mayo','polyclinic','thai','percent','company','million','billion','share','year','bank','italian','petrochemical'})\n",
    "\n",
    "\n",
    "# preprocess text : clean/remove/convert a text to a list of token\n",
    "def text_preprocess_tokenizer(s):\n",
    "    wordnet_lemmatizer = WordNetLemmatizer()\n",
    "    s = s.lower()                              #1 lower it all\n",
    "    s = s.replace('buzz-','')                  #2 remove reuters keywords\n",
    "    s = s.replace('brief-','')                 \n",
    "    s = s.replace('update-1','')               \n",
    "    s = s.replace('corrected-','')  \n",
    "    s = s.replace('full story','')\n",
    "    s = ''.join([i for i in s if not i.isdigit()])  #3 remove digit    \n",
    "    s = ''.join([i for i in s if s not in string.punctuation]) #4 remove punctuation\n",
    "    tokens = nltk.tokenize.word_tokenize(s)         #5 tokennize it\n",
    "    tokens = [t for t in tokens if len(t)>3]        #6 keep only words length>3\n",
    "    tokens = [wordnet_lemmatizer.lemmatize(t) for t in tokens]  #7 lemmatize it, return a word to its basic form\n",
    "    tokens = [t for t in tokens if t not in stopwords]          #8 remove stopwords\n",
    "    return tokens\n",
    "\n",
    "word_index_map = {}\n",
    "current_index = 0\n",
    "\n",
    "#convert word tokens to feature vector: propoertion method\n",
    "def tokens_to_vector(tokens,label):\n",
    "    x=np.zeros(len(word_index_map)+1)\n",
    "    for t in tokens:\n",
    "        i = word_index_map[t]\n",
    "        x[i] += 1\n",
    "    x = x/x.sum() \n",
    "    x[-1] = label\n",
    "    return x\n",
    "\n",
    "# visualize the data\n",
    "def visualize(data,title):\n",
    "  words = ''\n",
    "  for row in data:\n",
    "      for msg in row:\n",
    "          words += msg + ' '\n",
    "  wordcloud = WordCloud(width=600, height=400).generate(words)\n",
    "  plt.imshow(wordcloud)\n",
    "  plt.title(\"{}\".format(title))\n",
    "  plt.axis('off')\n",
    "  plt.show()\n"
   ]
  },
  {
   "cell_type": "markdown",
   "metadata": {},
   "source": [
    "<font face=\"Verdana, cursive, sans-serif\">\n",
    "<b>Step 3 Data pre-posessing, tokensizing and dictionary creation</b>\n",
    "<p>In this step, we iterate through each news item: pre-process it, tokenize it, as well as building up a dictionary; all at the same time. <br>Note that <code>word_index_map</code> is the <b>dictionary</b>, which will be used to create feature matric in the step."
   ]
  },
  {
   "cell_type": "code",
   "execution_count": 3,
   "metadata": {},
   "outputs": [
    {
     "data": {
      "image/png": "[encoded data removed]",
      "text/plain": [
       "<Figure size 432x288 with 1 Axes>"
      ]
     },
     "metadata": {},
     "output_type": "display_data"
    },
    {
     "data": {
      "image/png": "[encoded data removed]",
      "text/plain": [
       "<Figure size 432x288 with 1 Axes>"
      ]
     },
     "metadata": {},
     "output_type": "display_data"
    }
   ],
   "source": [
    "#%% Data preparation\n",
    "news = pd.read_csv(\"./input/rtnews_topstory_labeled.csv\",sep=\"|\")\n",
    "news['fulltext'] = news['title']+news['body']\n",
    "news = news.drop_duplicates(subset=['fulltext'],keep='last')\n",
    "news = news[(news['label']==1) | (news['label']==0) ]\n",
    "goodnews = news[news['label']==1]['fulltext'].tolist()\n",
    "badnews = news[news['label']==0]['fulltext'].tolist()\n",
    "\n",
    "#tokenized string\n",
    "goodnews_tokenized = []\n",
    "badnews_tokenized = []\n",
    "\n",
    "for news in goodnews:\n",
    "    tokens = text_preprocess_tokenizer(news)\n",
    "    goodnews_tokenized.append(tokens)\n",
    "    for token in tokens:\n",
    "        if token not in word_index_map:\n",
    "            word_index_map[token]=current_index\n",
    "            current_index+=1\n",
    "\n",
    "for news in badnews:\n",
    "    tokens = text_preprocess_tokenizer(news)\n",
    "    badnews_tokenized.append(tokens)\n",
    "    for token in tokens:\n",
    "        if token not in word_index_map:\n",
    "            word_index_map[token]=current_index\n",
    "            current_index+=1\n",
    "\n",
    "#let's see what stands out in good news and bad news\n",
    "visualize(goodnews_tokenized,\"Good news\")\n",
    "visualize(badnews_tokenized,\"Bad news\")"
   ]
  },
  {
   "cell_type": "markdown",
   "metadata": {},
   "source": [
    "<font face=\"Verdana, cursive, sans-serif\">\n",
    "<b>Step 4 Create feature matrix</b>\n",
    "<p>Convert tokenized vectors to feature matrix. Note that this feature matrix is also called \"bag-of-words\" or \"term-document\" matrix."
   ]
  },
  {
   "cell_type": "code",
   "execution_count": 4,
   "metadata": {},
   "outputs": [],
   "source": [
    "#%% Create a feature matrix.\n",
    "N = len(goodnews_tokenized) + len(badnews_tokenized)\n",
    "data = np.zeros((N, len(word_index_map) + 1)) \n",
    "i = 0\n",
    "for tokens in goodnews_tokenized:\n",
    "    xy = tokens_to_vector(tokens, 1)\n",
    "    data[i,:] = xy\n",
    "    i += 1\n",
    "\n",
    "for tokens in badnews_tokenized:\n",
    "    xy = tokens_to_vector(tokens, 0)\n",
    "    data[i,:] = xy\n",
    "    i += 1"
   ]
  },
  {
   "cell_type": "markdown",
   "metadata": {},
   "source": [
    "<font face=\"Verdana, cursive, sans-serif\">\n",
    "<b>Step 5 Create train and test feature matric</b>\n",
    "<p>We utiliize the following libaries to \n",
    " <ul>\n",
    "    <li><code>sklearn.model_selection.train_test_split</code> to randomly split the feature matric into a train and test matric</li>\n",
    "     <li><code>sklearn.metrics.classification_report,sklearn.metrics.classification_report </code> to print out the model performance report</li>\n",
    "</ul>"
   ]
  },
  {
   "cell_type": "code",
   "execution_count": 5,
   "metadata": {},
   "outputs": [],
   "source": [
    "from sklearn.metrics import classification_report\n",
    "from sklearn.metrics import accuracy_score\n",
    "from sklearn.model_selection import train_test_split\n",
    "from sklearn.metrics import confusion_matrix\n",
    "\n",
    "X = data[:,:-1] # X is everyhting, except last column\n",
    "y = data[:,-1]  # y is the last column.\n",
    "X_train, X_test, y_train, y_test = train_test_split(X, y, test_size=0.2, random_state=1234)"
   ]
  },
  {
   "cell_type": "markdown",
   "metadata": {},
   "source": [
    "<font face=\"Verdana, cursive, sans-serif\">\n",
    "<b>Step 6 Build a model</b>\n",
    "\n",
    "<p><b>To learn more about machine learning, please refer to  <a href=\"http://scikit-learn.org/stable/index.html\">Scikit-Learn: Machine Learning in Python</a></b>\n",
    "\n",
    "<p><font color=\"red\"><b>Logistic Regression</b></font>"
   ]
  },
  {
   "cell_type": "code",
   "execution_count": 6,
   "metadata": {},
   "outputs": [
    {
     "name": "stdout",
     "output_type": "stream",
     "text": [
      "\n",
      "Logistic regression\n",
      "====================\n",
      "Test accuracy score :  0.7083333333333334\n",
      "Test confusion matrix : \n",
      " [[  0  42]\n",
      " [  0 102]]\n",
      "Test classification report :  \n",
      "              precision    recall  f1-score   support\n",
      "\n",
      "        0.0       0.00      0.00      0.00        42\n",
      "        1.0       0.71      1.00      0.83       102\n",
      "\n",
      "avg / total       0.50      0.71      0.59       144\n",
      "\n"
     ]
    },
    {
     "name": "stderr",
     "output_type": "stream",
     "text": [
      "C:\\ProgramData\\Anaconda3\\lib\\site-packages\\sklearn\\metrics\\classification.py:1135: UndefinedMetricWarning: Precision and F-score are ill-defined and being set to 0.0 in labels with no predicted samples.\n",
      "  'precision', 'predicted', average, warn_for)\n"
     ]
    }
   ],
   "source": [
    "#%% model-1: Logistic regression\n",
    "from sklearn.linear_model import LogisticRegression\n",
    "model_logit = LogisticRegression()\n",
    "model_logit.fit(X_train,y_train)\n",
    "y_pred_model_logit = model_logit.predict(X_test)\n",
    "y_prob_model_logit = model_logit.predict_proba(X_test)\n",
    "print(\"\\nLogistic regression\")\n",
    "print(\"=\"*20)\n",
    "print(\"Test accuracy score : \",accuracy_score(y_test,y_pred_model_logit))\n",
    "print(\"Test confusion matrix : \\n\",confusion_matrix(y_test, y_pred_model_logit))\n",
    "print(\"Test classification report :  \\n\",classification_report(y_test,y_pred_model_logit))"
   ]
  },
  {
   "cell_type": "markdown",
   "metadata": {},
   "source": [
    "<font face=\"Verdana, cursive, sans-serif\">\n",
    "\n",
    "<img src=\"./images/confuse.png\" >\n",
    "\n",
    "<b>Interpretation</b>\n",
    "<ul>\n",
    "    <li><b>Accuracy</b> measurse an overall performance of the model. How well a model correctly classifies true positive and true negative.</li>\n",
    "    <li><b>Precision</b> measures how precisely a model idenitifies true positive as actual true positive.<br>[TP / (TP + FP)]</li>\n",
    "    <li><b>Recall(true positive rate or sensitivity)</b> measures how well a model captures all actual true positive.<br>[Recall = TP / (TP + FN))]</li>\n",
    "    <li><b>F1-Score</b> Harmonic mean (Precision, Recall)]</li>\n",
    "</ul>\n",
    "\n",
    "<p>That is, the logistic regression accuracy is 71%. It correctly identifies good news 50% of the time, it captures 71% of all the good news in the <b>test dataset</b>.\n",
    "\n",
    "\n",
    "<p><b>Estimates Vectors</b>\n",
    "<p>Each column index represents each word in the feature matic. Similar to any logistic regression problem, the estimated coefficient suggest the impact of each feature to the likelihood of p(y=1|x1,x2,x3..) "
   ]
  },
  {
   "cell_type": "code",
   "execution_count": 7,
   "metadata": {},
   "outputs": [
    {
     "name": "stdout",
     "output_type": "stream",
     "text": [
      "\n",
      "Top words associated with good news\n",
      "             word    weight\n",
      "212      contract  0.941109\n",
      "96   construction  0.616432\n",
      "216        signed   0.55993\n",
      "27         invest  0.557905\n",
      "73    development  0.474248\n",
      "119         group  0.468504\n",
      "213          sign  0.422119\n",
      "214     agreement  0.406751\n",
      "72        project  0.395911\n",
      "281       venture  0.388836\n",
      "\n",
      "Top words associated with bad news\n",
      "           word    weight\n",
      "4       service -0.367711\n",
      "218       qtrly -0.388442\n",
      "238        weak -0.406618\n",
      "332    shutdown -0.438845\n",
      "190  production -0.442947\n",
      "171        drop -0.529812\n",
      "143      versus -0.543321\n",
      "256        fall -0.855269\n",
      "1        profit -0.965329\n",
      "173        loss   -1.0088\n"
     ]
    }
   ],
   "source": [
    "#%% top keywords by model\n",
    "threshold = 0.05\n",
    "word_list = []\n",
    "weight_list = []\n",
    "for word, index in word_index_map.items():\n",
    "    weight = model_logit.coef_[0][index]\n",
    "    if weight > threshold or weight < -threshold:\n",
    "        word_list.append(word)\n",
    "        weight_list.append(weight)\n",
    "        \n",
    "wordweight = pd.DataFrame(data=[word_list,weight_list])\n",
    "wordweight = wordweight.transpose()\n",
    "wordweight.columns = ['word','weight']\n",
    "wordweight = wordweight.sort_values(by='weight',ascending=False)\n",
    "print(\"\\nTop words associated with good news\")\n",
    "print(wordweight.head(10))\n",
    "print(\"\\nTop words associated with bad news\")\n",
    "print(wordweight.tail(10))"
   ]
  },
  {
   "cell_type": "markdown",
   "metadata": {},
   "source": [
    "<font face=\"Verdana, cursive, sans-serif\">\n",
    "<p>For each news item, the proabability of being a good news is calculated by the following equation\n",
    "<img src=\"./images/logit_prob.png\" >\n",
    "where beta is the intercept term and alpha(s) are the coefficients of features"
   ]
  },
  {
   "cell_type": "markdown",
   "metadata": {},
   "source": [
    "<p><font color=\"red\"><b>Decision Tree</b></font>"
   ]
  },
  {
   "cell_type": "code",
   "execution_count": 8,
   "metadata": {},
   "outputs": [
    {
     "name": "stdout",
     "output_type": "stream",
     "text": [
      "\n",
      "Decision tree\n",
      "====================\n",
      "Test accuracy score :  0.7569444444444444\n",
      "Test confusion matrix : \n",
      " [[26 16]\n",
      " [19 83]]\n",
      "Test classification report : \n",
      "               precision    recall  f1-score   support\n",
      "\n",
      "        0.0       0.58      0.62      0.60        42\n",
      "        1.0       0.84      0.81      0.83       102\n",
      "\n",
      "avg / total       0.76      0.76      0.76       144\n",
      "\n"
     ]
    }
   ],
   "source": [
    "#%% model-2: decision tree\n",
    "from sklearn.tree import DecisionTreeClassifier\n",
    "model_dtree= DecisionTreeClassifier()\n",
    "model_dtree.fit(X_train,y_train)\n",
    "y_pred_model_dtree = model_dtree.predict(X_test)\n",
    "y_prob_model_dtree = model_dtree.predict_proba(X_test)\n",
    "print(\"\\nDecision tree\")\n",
    "print(\"=\"*20)\n",
    "print(\"Test accuracy score : \",accuracy_score(y_test,y_pred_model_dtree))\n",
    "print(\"Test confusion matrix : \\n\",confusion_matrix(y_test, y_pred_model_dtree))\n",
    "print(\"Test classification report : \\n \",classification_report(y_test,y_pred_model_dtree))"
   ]
  },
  {
   "cell_type": "markdown",
   "metadata": {},
   "source": [
    "<p><font color=\"red\"><b>Random Forest</b></font>"
   ]
  },
  {
   "cell_type": "code",
   "execution_count": 9,
   "metadata": {},
   "outputs": [
    {
     "name": "stdout",
     "output_type": "stream",
     "text": [
      "\n",
      "Random Forest\n",
      "====================\n",
      "Train classification rate: 1.0\n",
      "Test accuracy score :  0.7777777777777778\n",
      "Test confusion matrix : \n",
      " [[15 27]\n",
      " [ 5 97]]\n",
      "Test classification report :\n",
      "               precision    recall  f1-score   support\n",
      "\n",
      "        0.0       0.75      0.36      0.48        42\n",
      "        1.0       0.78      0.95      0.86       102\n",
      "\n",
      "avg / total       0.77      0.78      0.75       144\n",
      "\n"
     ]
    }
   ],
   "source": [
    "from sklearn.ensemble import RandomForestClassifier\n",
    "model_forest = RandomForestClassifier(n_estimators=300)\n",
    "model_forest.fit(X_train, y_train)\n",
    "y_pred_model_forest = model_forest.predict(X_test)\n",
    "print(\"\\nRandom Forest\")\n",
    "print(\"=\"*20)\n",
    "print(\"Train classification rate:\", model_forest.score(X_train,y_train))\n",
    "print(\"Test accuracy score : \",accuracy_score(y_test,y_pred_model_forest))\n",
    "print(\"Test confusion matrix : \\n\",confusion_matrix(y_test, y_pred_model_forest))\n",
    "print(\"Test classification report :\\n \",classification_report(y_test,y_pred_model_forest))"
   ]
  },
  {
   "cell_type": "markdown",
   "metadata": {},
   "source": [
    "<font face=\"Verdana, cursive, sans-serif\">\n",
    "<h1><b><center>Approach 2 Shorthand Programming </center></b></h1>\n",
    "\n",
    "<b>Feature matrix : TF-IDF</b>\n",
    "\n",
    "In this section, we demonstrate how to accomplish the whole process by using Python libraries, with Pipeline and without Pipeline functionality.\n",
    "\n"
   ]
  },
  {
   "cell_type": "markdown",
   "metadata": {},
   "source": [
    "<font face=\"Verdana, cursive, sans-serif\">\n",
    "<b>Rebuild the data and import additional libraries</b>"
   ]
  },
  {
   "cell_type": "code",
   "execution_count": 10,
   "metadata": {},
   "outputs": [],
   "source": [
    "#%% rebuild  data\n",
    "news = pd.read_csv(\"./input/rtnews_topstory_labeled.csv\",sep=\"|\")\n",
    "news['fulltext'] = news['title']+news['body']\n",
    "news = news.drop_duplicates(subset=['fulltext'],keep='last')\n",
    "news = news[(news['label']==1) | (news['label']==0) ]\n",
    "goodnews = news[news['label']==1]['fulltext'].tolist()\n",
    "badnews = news[news['label']==0]['fulltext'].tolist()\n",
    "\n",
    "#split train and test data set\n",
    "msg_train, msg_test, label_train, label_test = train_test_split(news['fulltext'], news['label'], test_size=0.2, random_state=1234)\n",
    "\n",
    "from sklearn.feature_extraction.text import CountVectorizer, TfidfTransformer\n",
    "from sklearn.pipeline import Pipeline"
   ]
  },
  {
   "cell_type": "markdown",
   "metadata": {},
   "source": [
    "<font face=\"Verdana, cursive, sans-serif\">\n",
    "<p><b>Create model *with out* Pipeline functionality</b>\n",
    "<p>Suppose we would like to build sentiment analyzer with naive_bayes model. There are 2 steps to perform as follows:-\n",
    "<ol>\n",
    "<li>Fit and transform sentence to feature matrix</li>\n",
    "<li>Fit the *model* with the data</li> \n",
    "</ol>"
   ]
  },
  {
   "cell_type": "code",
   "execution_count": 11,
   "metadata": {},
   "outputs": [
    {
     "name": "stdout",
     "output_type": "stream",
     "text": [
      "Model classification rate: 0.7796373779637378\n"
     ]
    }
   ],
   "source": [
    "#1.Fit and transform sentence to feature matrix\n",
    "bow_transformer = CountVectorizer(analyzer=text_preprocess_tokenizer).fit(news['fulltext'])\n",
    "messages_bow = bow_transformer.transform(news['fulltext'])\n",
    "tfidf_transformer = TfidfTransformer().fit(messages_bow)\n",
    "messages_tfidf = tfidf_transformer.transform(messages_bow)\n",
    "\n",
    "#2.Fit the naive_bayes model with the data\n",
    "from sklearn.naive_bayes import MultinomialNB\n",
    "\n",
    "goodbad_model = MultinomialNB().fit(messages_tfidf, news['label'])\n",
    "print(\"Model classification rate:\", goodbad_model.score(messages_tfidf,news['label']))"
   ]
  },
  {
   "cell_type": "markdown",
   "metadata": {},
   "source": [
    "<font face=\"Verdana, cursive, sans-serif\">\n",
    "<p><b>Create model *with* Pipeline functionality</b>\n",
    "<p> With pipline functionality, we can shorthen the program even futher\n",
    "<p><font color=\"red\"><b>Logistic Regression wiht TF-IDF feature matrix</b></font>"
   ]
  },
  {
   "cell_type": "code",
   "execution_count": 12,
   "metadata": {},
   "outputs": [
    {
     "name": "stdout",
     "output_type": "stream",
     "text": [
      "\n",
      "Pipeline - Bag of words/Tfidf -  LogisticRegression\n",
      "==================================================\n",
      "Train classification rate: 0.8743455497382199\n",
      "Test accuracy score :  0.7638888888888888\n",
      "Test classification  report : \n",
      "              precision    recall  f1-score   support\n",
      "\n",
      "          0       0.30      0.76      0.43        17\n",
      "          1       0.96      0.76      0.85       127\n",
      "\n",
      "avg / total       0.88      0.76      0.80       144\n",
      "\n"
     ]
    }
   ],
   "source": [
    "\n",
    "pipeline_logit = Pipeline([\n",
    "        ('bow',CountVectorizer(analyzer=text_preprocess_tokenizer)),\n",
    "        ('tfid',TfidfTransformer()),\n",
    "        ('classifier',LogisticRegression())\n",
    "        ])\n",
    "\n",
    "pipeline_logit.fit(msg_train,label_train)\n",
    "pred_logit = pipeline_logit.predict(msg_test)\n",
    "print(\"\\nPipeline - Bag of words/Tfidf -  LogisticRegression\")\n",
    "print(\"=\"*50)\n",
    "print(\"Train classification rate:\", pipeline_logit.score(msg_train,label_train))\n",
    "print(\"Test accuracy score : \",accuracy_score(label_test,pred_logit))\n",
    "print(\"Test classification  report : \\n\",classification_report(pred_logit,label_test))"
   ]
  },
  {
   "cell_type": "markdown",
   "metadata": {},
   "source": [
    "<p><font color=\"red\"><b>Decision Tree with TF-IDF feature matrix</b></font>"
   ]
  },
  {
   "cell_type": "code",
   "execution_count": 13,
   "metadata": {},
   "outputs": [
    {
     "name": "stdout",
     "output_type": "stream",
     "text": [
      "\n",
      "Pipeline - Bag of words/Tfidf -  Decision Tree\n",
      "==================================================\n",
      "Train classification rate: 1.0\n",
      "Test accuracy score :  0.75\n",
      "Test classification  report : \n",
      "              precision    recall  f1-score   support\n",
      "\n",
      "          0       0.53      0.59      0.56        39\n",
      "          1       0.84      0.81      0.83       105\n",
      "\n",
      "avg / total       0.76      0.75      0.75       144\n",
      "\n"
     ]
    }
   ],
   "source": [
    "pipeline_dtree = Pipeline([\n",
    "        ('bow',CountVectorizer(analyzer=text_preprocess_tokenizer)),\n",
    "        ('tfid',TfidfTransformer()),\n",
    "        ('classifier',DecisionTreeClassifier())\n",
    "        ])\n",
    "\n",
    "pipeline_dtree.fit(msg_train,label_train)\n",
    "pred_dtree = pipeline_dtree.predict(msg_test)\n",
    "print(\"\\nPipeline - Bag of words/Tfidf -  Decision Tree\")\n",
    "print(\"=\"*50)\n",
    "print(\"Train classification rate:\", pipeline_dtree.score(msg_train,label_train))\n",
    "print(\"Test accuracy score : \",accuracy_score(label_test,pred_dtree))\n",
    "print(\"Test classification  report : \\n\",classification_report(pred_dtree,label_test))"
   ]
  },
  {
   "cell_type": "markdown",
   "metadata": {},
   "source": [
    "<p><font color=\"red\"><b>Random Forest with TF-IDF feature matrix</b></font>"
   ]
  },
  {
   "cell_type": "code",
   "execution_count": 14,
   "metadata": {},
   "outputs": [
    {
     "name": "stdout",
     "output_type": "stream",
     "text": [
      "\n",
      "Pipeline - Bag of words/Tfidf -  RandomForestClassifier(n_estimators=300)\n",
      "==================================================\n",
      "Train classification rate: 1.0\n",
      "Test accuracy score :  0.8333333333333334\n",
      "Test classification  report : \n",
      "              precision    recall  f1-score   support\n",
      "\n",
      "          0       0.53      0.85      0.66        27\n",
      "          1       0.96      0.83      0.89       117\n",
      "\n",
      "avg / total       0.88      0.83      0.85       144\n",
      "\n"
     ]
    }
   ],
   "source": [
    "pipeline_forest = Pipeline([\n",
    "        ('bow',CountVectorizer(analyzer=text_preprocess_tokenizer)),\n",
    "        ('tfid',TfidfTransformer()),\n",
    "        ('classifier',RandomForestClassifier(n_estimators=300))\n",
    "        ])\n",
    "\n",
    "pipeline_forest.fit(msg_train,label_train)\n",
    "pred_forest = pipeline_forest.predict(msg_test)\n",
    "print(\"\\nPipeline - Bag of words/Tfidf -  RandomForestClassifier(n_estimators=300)\")\n",
    "print(\"=\"*50)\n",
    "print(\"Train classification rate:\", pipeline_forest.score(msg_train,label_train))\n",
    "print(\"Test accuracy score : \",accuracy_score(label_test,pred_forest))\n",
    "print(\"Test classification  report : \\n\",classification_report(pred_forest,label_test))"
   ]
  },
  {
   "cell_type": "markdown",
   "metadata": {},
   "source": [
    "<font face=\"Verdana, cursive, sans-serif\">\n",
    "<p><b>Final Step - Score the data with models</b>"
   ]
  },
  {
   "cell_type": "code",
   "execution_count": 15,
   "metadata": {},
   "outputs": [],
   "source": [
    "#%% score al models on the dataset\n",
    "\n",
    "news = pd.read_csv(\"./input/rtnews_topstory_labeled.csv\",sep=\"|\")\n",
    "news['fulltext'] = news['title']+news['body']\n",
    "news = news.drop_duplicates(subset=['fulltext'],keep='last')\n",
    "\n",
    "news['proba_logit']=pipeline_logit.predict_proba(news['fulltext'] )[:,1]\n",
    "news['proba_forest']=pipeline_forest.predict_proba(news['fulltext'] )[:,1]\n",
    "\n",
    "news = news.drop(['fulltext'] , axis=1)\n",
    "\n",
    "outfile_path=\"./output/\"\n",
    "filename_final_csv=outfile_path+\"_rtnews_sentiment_.csv\"\n",
    "news.to_csv(filename_final_csv,sep='|',index=False,encoding='utf-8-sig')"
   ]
  },
  {
   "cell_type": "code",
   "execution_count": 16,
   "metadata": {},
   "outputs": [
    {
     "data": {
      "text/html": [
       "<div>\n",
       "<style scoped>\n",
       "    .dataframe tbody tr th:only-of-type {\n",
       "        vertical-align: middle;\n",
       "    }\n",
       "\n",
       "    .dataframe tbody tr th {\n",
       "        vertical-align: top;\n",
       "    }\n",
       "\n",
       "    .dataframe thead th {\n",
       "        text-align: right;\n",
       "    }\n",
       "</style>\n",
       "<table border=\"1\" class=\"dataframe\">\n",
       "  <thead>\n",
       "    <tr style=\"text-align: right;\">\n",
       "      <th></th>\n",
       "      <th>label</th>\n",
       "      <th>id</th>\n",
       "      <th>ticker</th>\n",
       "      <th>date</th>\n",
       "      <th>title</th>\n",
       "      <th>body</th>\n",
       "      <th>proba_logit</th>\n",
       "      <th>proba_forest</th>\n",
       "    </tr>\n",
       "  </thead>\n",
       "  <tbody>\n",
       "    <tr>\n",
       "      <th>10</th>\n",
       "      <td>1</td>\n",
       "      <td>23</td>\n",
       "      <td>ADVANC</td>\n",
       "      <td>11022017</td>\n",
       "      <td>Thai telecoms firm AIS's profits up on more su...</td>\n",
       "      <td>BANGKOK, Nov 2 (Reuters) - Advance Info Servic...</td>\n",
       "      <td>0.672481</td>\n",
       "      <td>0.886667</td>\n",
       "    </tr>\n",
       "    <tr>\n",
       "      <th>18</th>\n",
       "      <td>1</td>\n",
       "      <td>31</td>\n",
       "      <td>ADVANC</td>\n",
       "      <td>2062017</td>\n",
       "      <td>BRIEF-Thai Advanced Info Pcl says believes int...</td>\n",
       "      <td>Feb 6 (Reuters) - Thai Advanced Info Pcl CEO S...</td>\n",
       "      <td>0.788590</td>\n",
       "      <td>0.970000</td>\n",
       "    </tr>\n",
       "    <tr>\n",
       "      <th>22</th>\n",
       "      <td>1</td>\n",
       "      <td>35</td>\n",
       "      <td>ADVANC</td>\n",
       "      <td>7042016</td>\n",
       "      <td>BRIEF-Advanced Info Service says AWN officiall...</td>\n",
       "      <td>On 27 may 2016, Advanced Wireless Network Co.,...</td>\n",
       "      <td>0.681237</td>\n",
       "      <td>0.836667</td>\n",
       "    </tr>\n",
       "    <tr>\n",
       "      <th>29</th>\n",
       "      <td>1</td>\n",
       "      <td>42</td>\n",
       "      <td>ADVANC</td>\n",
       "      <td>2112016</td>\n",
       "      <td>BRIEF-Thai AIS aims 10 mln 4G subscribers by e...</td>\n",
       "      <td>The company aims 10 million 4G subscribers by ...</td>\n",
       "      <td>0.749487</td>\n",
       "      <td>0.863333</td>\n",
       "    </tr>\n",
       "    <tr>\n",
       "      <th>30</th>\n",
       "      <td>1</td>\n",
       "      <td>43</td>\n",
       "      <td>ADVANC</td>\n",
       "      <td>1262016</td>\n",
       "      <td>BRIEF-AIS</td>\n",
       "      <td>Jan 26 (Reuters) - Advanced Info Service Pcl C...</td>\n",
       "      <td>0.757538</td>\n",
       "      <td>0.923333</td>\n",
       "    </tr>\n",
       "  </tbody>\n",
       "</table>\n",
       "</div>"
      ],
      "text/plain": [
       "    label  id  ticker      date  \\\n",
       "10      1  23  ADVANC  11022017   \n",
       "18      1  31  ADVANC   2062017   \n",
       "22      1  35  ADVANC   7042016   \n",
       "29      1  42  ADVANC   2112016   \n",
       "30      1  43  ADVANC   1262016   \n",
       "\n",
       "                                                title  \\\n",
       "10  Thai telecoms firm AIS's profits up on more su...   \n",
       "18  BRIEF-Thai Advanced Info Pcl says believes int...   \n",
       "22  BRIEF-Advanced Info Service says AWN officiall...   \n",
       "29  BRIEF-Thai AIS aims 10 mln 4G subscribers by e...   \n",
       "30                                          BRIEF-AIS   \n",
       "\n",
       "                                                 body  proba_logit  \\\n",
       "10  BANGKOK, Nov 2 (Reuters) - Advance Info Servic...     0.672481   \n",
       "18  Feb 6 (Reuters) - Thai Advanced Info Pcl CEO S...     0.788590   \n",
       "22  On 27 may 2016, Advanced Wireless Network Co.,...     0.681237   \n",
       "29  The company aims 10 million 4G subscribers by ...     0.749487   \n",
       "30  Jan 26 (Reuters) - Advanced Info Service Pcl C...     0.757538   \n",
       "\n",
       "    proba_forest  \n",
       "10      0.886667  \n",
       "18      0.970000  \n",
       "22      0.836667  \n",
       "29      0.863333  \n",
       "30      0.923333  "
      ]
     },
     "execution_count": 16,
     "metadata": {},
     "output_type": "execute_result"
    }
   ],
   "source": [
    "news[(news['label']==1)].head(5)"
   ]
  },
  {
   "cell_type": "code",
   "execution_count": 17,
   "metadata": {},
   "outputs": [
    {
     "data": {
      "text/html": [
       "<div>\n",
       "<style scoped>\n",
       "    .dataframe tbody tr th:only-of-type {\n",
       "        vertical-align: middle;\n",
       "    }\n",
       "\n",
       "    .dataframe tbody tr th {\n",
       "        vertical-align: top;\n",
       "    }\n",
       "\n",
       "    .dataframe thead th {\n",
       "        text-align: right;\n",
       "    }\n",
       "</style>\n",
       "<table border=\"1\" class=\"dataframe\">\n",
       "  <thead>\n",
       "    <tr style=\"text-align: right;\">\n",
       "      <th></th>\n",
       "      <th>label</th>\n",
       "      <th>id</th>\n",
       "      <th>ticker</th>\n",
       "      <th>date</th>\n",
       "      <th>title</th>\n",
       "      <th>body</th>\n",
       "      <th>proba_logit</th>\n",
       "      <th>proba_forest</th>\n",
       "    </tr>\n",
       "  </thead>\n",
       "  <tbody>\n",
       "    <tr>\n",
       "      <th>0</th>\n",
       "      <td>0</td>\n",
       "      <td>3</td>\n",
       "      <td>ADVANC</td>\n",
       "      <td>6152018</td>\n",
       "      <td>BRIEF-Thai Telco Advanced Info Service Says Wi...</td>\n",
       "      <td>15-Jun-2018 12:44:35 - THAI MOBILE OPERATOR AD...</td>\n",
       "      <td>0.440865</td>\n",
       "      <td>0.266667</td>\n",
       "    </tr>\n",
       "    <tr>\n",
       "      <th>1</th>\n",
       "      <td>0</td>\n",
       "      <td>4</td>\n",
       "      <td>ADVANC</td>\n",
       "      <td>6152018</td>\n",
       "      <td>BRIEF-Advanced Info Service To Not Participate...</td>\n",
       "      <td>ADVANCED INFO SERVICE -NOT PARTICIPATING IN UP...</td>\n",
       "      <td>0.440794</td>\n",
       "      <td>0.223333</td>\n",
       "    </tr>\n",
       "    <tr>\n",
       "      <th>4</th>\n",
       "      <td>0</td>\n",
       "      <td>16</td>\n",
       "      <td>ADVANC</td>\n",
       "      <td>2052018</td>\n",
       "      <td>Thai telco Advanced Info Service announces 2 p...</td>\n",
       "      <td>BANGKOK, Feb 5 (Reuters) - Thailand's largest ...</td>\n",
       "      <td>0.315841</td>\n",
       "      <td>0.130000</td>\n",
       "    </tr>\n",
       "    <tr>\n",
       "      <th>5</th>\n",
       "      <td>0</td>\n",
       "      <td>17</td>\n",
       "      <td>ADVANC</td>\n",
       "      <td>2052018</td>\n",
       "      <td>BRIEF-Advanced Info Service Posts FY Net Profi...</td>\n",
       "      <td>ADVANCED INFO SERVICE PCL - FY TOTAL REV 157.7...</td>\n",
       "      <td>0.470574</td>\n",
       "      <td>0.213333</td>\n",
       "    </tr>\n",
       "    <tr>\n",
       "      <th>33</th>\n",
       "      <td>0</td>\n",
       "      <td>46</td>\n",
       "      <td>ADVANC</td>\n",
       "      <td>3182015</td>\n",
       "      <td>BUZZ-Thai AIS, Total Access retreat; key panel...</td>\n",
       "      <td>Advanced Info Service Pcl ADVANC.BK shares fal...</td>\n",
       "      <td>0.526919</td>\n",
       "      <td>0.416667</td>\n",
       "    </tr>\n",
       "  </tbody>\n",
       "</table>\n",
       "</div>"
      ],
      "text/plain": [
       "    label  id  ticker     date  \\\n",
       "0       0   3  ADVANC  6152018   \n",
       "1       0   4  ADVANC  6152018   \n",
       "4       0  16  ADVANC  2052018   \n",
       "5       0  17  ADVANC  2052018   \n",
       "33      0  46  ADVANC  3182015   \n",
       "\n",
       "                                                title  \\\n",
       "0   BRIEF-Thai Telco Advanced Info Service Says Wi...   \n",
       "1   BRIEF-Advanced Info Service To Not Participate...   \n",
       "4   Thai telco Advanced Info Service announces 2 p...   \n",
       "5   BRIEF-Advanced Info Service Posts FY Net Profi...   \n",
       "33  BUZZ-Thai AIS, Total Access retreat; key panel...   \n",
       "\n",
       "                                                 body  proba_logit  \\\n",
       "0   15-Jun-2018 12:44:35 - THAI MOBILE OPERATOR AD...     0.440865   \n",
       "1   ADVANCED INFO SERVICE -NOT PARTICIPATING IN UP...     0.440794   \n",
       "4   BANGKOK, Feb 5 (Reuters) - Thailand's largest ...     0.315841   \n",
       "5   ADVANCED INFO SERVICE PCL - FY TOTAL REV 157.7...     0.470574   \n",
       "33  Advanced Info Service Pcl ADVANC.BK shares fal...     0.526919   \n",
       "\n",
       "    proba_forest  \n",
       "0       0.266667  \n",
       "1       0.223333  \n",
       "4       0.130000  \n",
       "5       0.213333  \n",
       "33      0.416667  "
      ]
     },
     "execution_count": 17,
     "metadata": {},
     "output_type": "execute_result"
    }
   ],
   "source": [
    "news[(news['label']==0)].head(5)"
   ]
  },
  {
   "cell_type": "markdown",
   "metadata": {},
   "source": [
    "<font face=\"Verdana, cursive, sans-serif\" >\n",
    "<h1><center>Conclusion</center></h1>\n",
    "\n",
    "The purpose of this program is to demonstrate a basic steps of NLP. Below table summarise the performance of each model by each type of feature matrix. It is shown that TF-IDF with Random Forest etimating technique outperform all other models by approximately 10% - However, this demonstration is not with out major critigues on both data and methods.\n",
    "\n",
    "<img src=\"./images/comparematric.png\" >\n",
    "\n",
    "<b>Data Critiques</b>\n",
    "<p>The most important part of this project is the reliability and credibility of the source of the data. We select Reuters news due to its reptutation of unbiasness. We label each news as good, bas, neutral based on its title and body content, which maybe subjective to the eyes of the readers. In total, we have only 1,914 news coverage of top SET 50 SET during 2014-2018/H1, more news from other local sources would have enhanced the robustnexs of the model </p>\n",
    "\n",
    "<b>Modeling Critiques</b>\n",
    "<p>As demonstrated in all 3 models, the probability of news being 1 (good news) or 0 (bad news) are based on the features and labels, the more occurance of positive(negative) words, the higher proability of it being a good(bad) news. All three model does not take into account the importance of the relationship between each word. To address this problem, we would need to apply deep learning technique.</p>\n",
    "\n"
   ]
  },
  {
   "cell_type": "code",
   "execution_count": null,
   "metadata": {},
   "outputs": [],
   "source": []
  }
 ],
 "metadata": {
  "kernelspec": {
   "display_name": "Python 3",
   "language": "python",
   "name": "python3"
  },
  "language_info": {
   "codemirror_mode": {
    "name": "ipython",
    "version": 3
   },
   "file_extension": ".py",
   "mimetype": "text/x-python",
   "name": "python",
   "nbconvert_exporter": "python",
   "pygments_lexer": "ipython3",
   "version": "3.6.4"
  }
 },
 "nbformat": 4,
 "nbformat_minor": 2
}
